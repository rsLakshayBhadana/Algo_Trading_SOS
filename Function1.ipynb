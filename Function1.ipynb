{
 "cells": [
  {
   "cell_type": "code",
   "execution_count": 1,
   "id": "ad3774ab",
   "metadata": {},
   "outputs": [],
   "source": [
    "import yfinance as yf\n",
    "import  numpy as np\n",
    "import pandas as pd \n",
    "import matplotlib.pyplot as plt \n",
    "import seaborn as sns"
   ]
  },
  {
   "cell_type": "markdown",
   "id": "9a484003",
   "metadata": {},
   "source": [
    "\n",
    "**Creating the function for testing our strategy**\n",
    "\n",
    "variables data type \n",
    "\n",
    "stock,start,end --> string \n"
   ]
  },
  {
   "cell_type": "code",
   "execution_count": 5,
   "id": "cf8f8b8a",
   "metadata": {},
   "outputs": [],
   "source": [
    "def test_strategy(stock,start,end,SMA):\n",
    "    df = yf.download(stock,start=start,end=end)\n",
    "    \n",
    "    # Now taking the closing price \n",
    "    data = df.Close.to_frame()\n",
    "    \n",
    "    # 1.Returns \n",
    "    data[\"returns\"] = np.log(data.Close.div(data.Close.shift(1)))\n",
    "    \n",
    "    # 2. SMA small and large (Moving average)\n",
    "    data[\"SMA_s\"] = data.Close.rolling(int(SMA[0])).mean()\n",
    "    data[\"SMA_l\"] = data.Close.rolling(int(SMA[1])).mean()\n",
    "    \n",
    "    # 3. dropping Na \n",
    "    data.dropna(inplace= True)\n",
    "    \n",
    "    # position \n",
    "    data[\"Position\"] = np.where(data[\"SMA_s\"]>data[\"SMA_l\"],1,-1)\n",
    "    \n",
    "    # Strategy returns \n",
    "    data[\"strategy\"] = data[\"returns\"]*data.Position.shift(1)\n",
    "    data.dropna(inplace = True)\n",
    "    \n",
    "    # returns \n",
    "    ret = np.exp(data[\"strategy\"].sum())\n",
    "    std = data[\"strategy\"].std()*np.sqrt(252)\n",
    "    \n",
    "    return ret , std "
   ]
  },
  {
   "cell_type": "code",
   "execution_count": 10,
   "id": "42c62afc",
   "metadata": {},
   "outputs": [
    {
     "name": "stdout",
     "output_type": "stream",
     "text": [
      "[*********************100%***********************]  1 of 1 completed\n"
     ]
    },
    {
     "data": {
      "text/plain": [
       "(2.0966512238282835, 0.26652452273860583)"
      ]
     },
     "execution_count": 10,
     "metadata": {},
     "output_type": "execute_result"
    }
   ],
   "source": [
    "test_strategy(\"MSFT\",\"2000-01-01\",\"2022-01-01\",(50,200))"
   ]
  },
  {
   "cell_type": "code",
   "execution_count": 11,
   "id": "3193bd9f",
   "metadata": {},
   "outputs": [
    {
     "name": "stdout",
     "output_type": "stream",
     "text": [
      "[*********************100%***********************]  1 of 1 completed\n"
     ]
    },
    {
     "data": {
      "text/plain": [
       "(31.177007359630647, 0.3672557952294945)"
      ]
     },
     "execution_count": 11,
     "metadata": {},
     "output_type": "execute_result"
    }
   ],
   "source": [
    "test_strategy(\"AAPL\",\"2000-01-01\",\"2023-01-01\",(50,200))"
   ]
  },
  {
   "cell_type": "code",
   "execution_count": 16,
   "id": "d382e832",
   "metadata": {},
   "outputs": [
    {
     "name": "stdout",
     "output_type": "stream",
     "text": [
      "[*********************100%***********************]  1 of 1 completed\n"
     ]
    },
    {
     "data": {
      "text/plain": [
       "(18.20250156588702, 0.5622062188584734)"
      ]
     },
     "execution_count": 16,
     "metadata": {},
     "output_type": "execute_result"
    }
   ],
   "source": [
    "test_strategy(\"TSLA\",\"2000-01-01\",\"2023-01-01\",(50,200))"
   ]
  },
  {
   "cell_type": "code",
   "execution_count": 17,
   "id": "bdd9ccf9",
   "metadata": {},
   "outputs": [
    {
     "name": "stdout",
     "output_type": "stream",
     "text": [
      "[*********************100%***********************]  1 of 1 completed\n"
     ]
    },
    {
     "data": {
      "text/plain": [
       "(4.664151972008176, 0.19774639958570314)"
      ]
     },
     "execution_count": 17,
     "metadata": {},
     "output_type": "execute_result"
    }
   ],
   "source": [
    "test_strategy(\"SPY\",\"2000-01-01\",\"2023-01-01\",(50,200))"
   ]
  },
  {
   "cell_type": "code",
   "execution_count": null,
   "id": "f0b95729",
   "metadata": {},
   "outputs": [],
   "source": []
  }
 ],
 "metadata": {
  "kernelspec": {
   "display_name": "Python 3 (ipykernel)",
   "language": "python",
   "name": "python3"
  },
  "language_info": {
   "codemirror_mode": {
    "name": "ipython",
    "version": 3
   },
   "file_extension": ".py",
   "mimetype": "text/x-python",
   "name": "python",
   "nbconvert_exporter": "python",
   "pygments_lexer": "ipython3",
   "version": "3.10.9"
  }
 },
 "nbformat": 4,
 "nbformat_minor": 5
}
