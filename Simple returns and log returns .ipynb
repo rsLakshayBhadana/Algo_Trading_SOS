{
 "cells": [
  {
   "cell_type": "markdown",
   "id": "31a3f044",
   "metadata": {},
   "source": [
    "## Simple returns and Log returns "
   ]
  },
  {
   "cell_type": "code",
   "execution_count": 6,
   "id": "684a8ecd",
   "metadata": {},
   "outputs": [],
   "source": [
    "import yfinance as yf\n",
    "import numpy as np \n",
    "import matplotlib.pyplot as plt \n",
    "import pandas as pd"
   ]
  },
  {
   "cell_type": "code",
   "execution_count": 8,
   "id": "f99b044c",
   "metadata": {},
   "outputs": [
    {
     "name": "stdout",
     "output_type": "stream",
     "text": [
      "      Price\n",
      "2016    100\n",
      "2017     50\n",
      "2018     95\n"
     ]
    }
   ],
   "source": [
    "# creating a dataframa using the pandas \n",
    "df = pd.DataFrame(index=[2016,2017,2018],data=[100,50,95],columns= [\"Price\"])\n",
    "print(df)"
   ]
  },
  {
   "cell_type": "code",
   "execution_count": 9,
   "id": "82b46243",
   "metadata": {},
   "outputs": [
    {
     "data": {
      "text/html": [
       "<div>\n",
       "<style scoped>\n",
       "    .dataframe tbody tr th:only-of-type {\n",
       "        vertical-align: middle;\n",
       "    }\n",
       "\n",
       "    .dataframe tbody tr th {\n",
       "        vertical-align: top;\n",
       "    }\n",
       "\n",
       "    .dataframe thead th {\n",
       "        text-align: right;\n",
       "    }\n",
       "</style>\n",
       "<table border=\"1\" class=\"dataframe\">\n",
       "  <thead>\n",
       "    <tr style=\"text-align: right;\">\n",
       "      <th></th>\n",
       "      <th>Price</th>\n",
       "    </tr>\n",
       "  </thead>\n",
       "  <tbody>\n",
       "    <tr>\n",
       "      <th>2017</th>\n",
       "      <td>-0.5</td>\n",
       "    </tr>\n",
       "    <tr>\n",
       "      <th>2018</th>\n",
       "      <td>0.9</td>\n",
       "    </tr>\n",
       "  </tbody>\n",
       "</table>\n",
       "</div>"
      ],
      "text/plain": [
       "      Price\n",
       "2017   -0.5\n",
       "2018    0.9"
      ]
     },
     "execution_count": 9,
     "metadata": {},
     "output_type": "execute_result"
    }
   ],
   "source": [
    "simplereturns = df.pct_change().dropna()\n",
    "simplereturns "
   ]
  },
  {
   "cell_type": "code",
   "execution_count": 11,
   "id": "220b744c",
   "metadata": {},
   "outputs": [
    {
     "data": {
      "text/plain": [
       "Price    0.2\n",
       "dtype: float64"
      ]
     },
     "execution_count": 11,
     "metadata": {},
     "output_type": "execute_result"
    }
   ],
   "source": [
    "simplereturns.mean()"
   ]
  },
  {
   "cell_type": "markdown",
   "id": "6ef2e791",
   "metadata": {},
   "source": [
    "# Here the problem is that it doesn't calculate mean from begining to the end (Of the actual data)"
   ]
  },
  {
   "cell_type": "markdown",
   "id": "fb89974e",
   "metadata": {},
   "source": [
    "#As the average return is 0.2 so the ans. 2018 should be 95 approx but it's different\n",
    "100(1+0.2)(1+0.2) = 144 "
   ]
  },
  {
   "cell_type": "markdown",
   "id": "7e531af5",
   "metadata": {},
   "source": [
    "which means average returns are missleading so we use **log returns**"
   ]
  },
  {
   "cell_type": "markdown",
   "id": "bae1e527",
   "metadata": {},
   "source": [
    "# Using log returns "
   ]
  },
  {
   "cell_type": "code",
   "execution_count": 32,
   "id": "72f0c73e",
   "metadata": {},
   "outputs": [],
   "source": [
    "log_returns = np.log((df/df.shift(1))).dropna()"
   ]
  },
  {
   "cell_type": "code",
   "execution_count": 33,
   "id": "17cc06d3",
   "metadata": {},
   "outputs": [
    {
     "data": {
      "text/plain": [
       "Price   -0.025647\n",
       "dtype: float64"
      ]
     },
     "execution_count": 33,
     "metadata": {},
     "output_type": "execute_result"
    }
   ],
   "source": [
    "log_returns.mean()"
   ]
  },
  {
   "cell_type": "markdown",
   "id": "b9e33198",
   "metadata": {},
   "source": [
    "# Checking the log return method \n",
    "Now lets see can we predict the correct price \n",
    "price[\"2018\"] = 100(1-0.025647)(1-0.025647) = 94.9363768609\n",
    "we are getting approx. the same answer "
   ]
  },
  {
   "cell_type": "code",
   "execution_count": 34,
   "id": "decfa5fc",
   "metadata": {},
   "outputs": [
    {
     "data": {
      "text/plain": [
       "Price    95.0\n",
       "dtype: float64"
      ]
     },
     "execution_count": 34,
     "metadata": {},
     "output_type": "execute_result"
    }
   ],
   "source": [
    "100*np.exp(log_returns.mean()*2)"
   ]
  },
  {
   "cell_type": "code",
   "execution_count": null,
   "id": "e36bf396",
   "metadata": {},
   "outputs": [],
   "source": []
  }
 ],
 "metadata": {
  "kernelspec": {
   "display_name": "Python 3 (ipykernel)",
   "language": "python",
   "name": "python3"
  },
  "language_info": {
   "codemirror_mode": {
    "name": "ipython",
    "version": 3
   },
   "file_extension": ".py",
   "mimetype": "text/x-python",
   "name": "python",
   "nbconvert_exporter": "python",
   "pygments_lexer": "ipython3",
   "version": "3.10.9"
  }
 },
 "nbformat": 4,
 "nbformat_minor": 5
}
